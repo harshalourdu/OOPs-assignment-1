{
 "cells": [
  {
   "cell_type": "markdown",
   "id": "14164e80-1dba-4621-b405-bc66cbb8bcb4",
   "metadata": {},
   "source": [
    "Problem 1: Bank Account Create a class representing a bank account with attributes like account number, account holder name, and balance. Implement methods to deposit and withdraw money from the account.\n",
    "\n",
    "Problem 2: Employee Management Create a class representing an employee with attributes like employee ID, name, and salary. Implement methods to calculate the yearly bonus and display employee details.\n",
    "\n",
    "Problem 3: Vehicle Rental Create a class representing a vehicle rental system. Implement methods to rent a vehicle, return a vehicle, and display available vehicles.\n",
    "\n",
    "Problem 4: Library Catalog Create classes representing a library and a book. Implement methods to add books to the library, borrow books, and display available books.\n",
    "\n",
    "Problem 5: Product Inventory Create classes representing a product and an inventory system. Implement methods to add products to the inventory, update product quantity, and display available products.\n",
    "\n",
    "Problem 6: Shape Calculation Create a class representing a shape with attributes like length, width, and height. Implement methods to calculate the area and perimeter of the shape.\n",
    "\n",
    "Problem 7: Student Management Create a class representing a student with attributes like student ID, name, and grades. Implement methods to calculate the average grade and display student details.\n",
    "\n",
    "Problem 8: Email Management Create a class representing an email with attributes like sender, recipient, and subject. Implement methods to send an email and display email details.\n",
    "\n",
    "Problem 9: Social Media Profile Create a class representing a social media profile with attributes like username and posts. Implement methods to add posts, display posts, and search for posts by keyword.\n",
    "\n",
    "Problem 10: ToDo List Create a class representing a ToDo list with attributes like tasks and due dates. Implement methods to add tasks, mark tasks as completed, and display pending tasks."
   ]
  },
  {
   "cell_type": "code",
   "execution_count": null,
   "id": "08b7a8eb-bbef-4876-aaf2-57d197f708ab",
   "metadata": {},
   "outputs": [],
   "source": []
  },
  {
   "cell_type": "code",
   "execution_count": null,
   "id": "27220a90-059e-49bb-972a-81fb57958ee6",
   "metadata": {},
   "outputs": [],
   "source": []
  },
  {
   "cell_type": "markdown",
   "id": "9070b740-6796-4fa3-af82-2211bbb8932f",
   "metadata": {},
   "source": [
    "Problem 1: Bank Account Create a class representing a bank account with attributes like account number, account holder name, and balance. Implement methods to deposit and withdraw money from the account."
   ]
  },
  {
   "cell_type": "code",
   "execution_count": 2,
   "id": "02747980-93cd-4231-8d87-1a3297807d23",
   "metadata": {},
   "outputs": [
    {
     "name": "stdout",
     "output_type": "stream",
     "text": [
      "Hello!!! Welcome to the Deposit & Withdrawal Machine\n"
     ]
    },
    {
     "name": "stdin",
     "output_type": "stream",
     "text": [
      "Enter amount to be Deposited:  1000\n"
     ]
    },
    {
     "name": "stdout",
     "output_type": "stream",
     "text": [
      "\n",
      " Amount Deposited: 1000.0\n"
     ]
    },
    {
     "name": "stdin",
     "output_type": "stream",
     "text": [
      "Enter amount to be Withdrawn:  500\n"
     ]
    },
    {
     "name": "stdout",
     "output_type": "stream",
     "text": [
      "\n",
      " You Withdrew: 500.0\n",
      "\n",
      " Net Available Balance= 500.0\n"
     ]
    }
   ],
   "source": [
    "class Bank_Account:\n",
    "    def __init__(self):\n",
    "        self.balance=0\n",
    "        print(\"Hello!!! Welcome to the Deposit & Withdrawal Machine\")\n",
    " \n",
    "    def deposit(self):\n",
    "        amount=float(input(\"Enter amount to be Deposited: \"))\n",
    "        self.balance += amount\n",
    "        print(\"\\n Amount Deposited:\",amount)\n",
    " \n",
    "    def withdraw(self):\n",
    "        amount = float(input(\"Enter amount to be Withdrawn: \"))\n",
    "        if self.balance>=amount:\n",
    "            self.balance-=amount\n",
    "            print(\"\\n You Withdrew:\", amount)\n",
    "        else:\n",
    "            print(\"\\n Insufficient balance  \")\n",
    " \n",
    "    def display(self):\n",
    "        print(\"\\n Net Available Balance=\",self.balance)\n",
    "        \n",
    "s = Bank_Account()\n",
    "\n",
    "s.deposit()\n",
    "s.withdraw()\n",
    "s.display()"
   ]
  },
  {
   "cell_type": "code",
   "execution_count": null,
   "id": "46fb9435-a2f2-4888-bad4-b31c2957f873",
   "metadata": {},
   "outputs": [],
   "source": []
  },
  {
   "cell_type": "markdown",
   "id": "6f4d6164-3eb5-4f3a-8b0e-feba83c49f4e",
   "metadata": {},
   "source": [
    "Problem 2: Employee Management Create a class representing an employee with attributes like employee ID, name, and salary. Implement methods to calculate the yearly bonus and display employee details."
   ]
  },
  {
   "cell_type": "code",
   "execution_count": 6,
   "id": "ee1a1837-011e-43b3-95d5-1242d27b5c3c",
   "metadata": {},
   "outputs": [
    {
     "name": "stdout",
     "output_type": "stream",
     "text": [
      "Id\t\t: 1\n",
      "Name\t: pankaj\n",
      "Gender\t: male\n",
      "City\t: raipur\n",
      "Salary\t: 55000\n"
     ]
    }
   ],
   "source": [
    "# employee class code in Python\n",
    "# class definition\n",
    "class Employee:\n",
    "    __id=0\n",
    "    __name=\"\"\n",
    "    __gender=\"\"\n",
    "    __city=\"\"\n",
    "    __salary=0\n",
    "\t\n",
    "\t# function to set data \n",
    "    def setData(self,id,name,gender,city,salary):\n",
    "        self.__id = id\n",
    "        self.__name = name\n",
    "        self.__gender = gender\n",
    "        self.__city = city\n",
    "        self.__salary = salary\n",
    "\t\n",
    "\t# function to get/print data\n",
    "    def showData(self):\n",
    "        print(\"Id\\t\\t:\",self.__id)\n",
    "        print(\"Name\\t:\", self.__name)\n",
    "        print(\"Gender\\t:\", self.__gender)\n",
    "        print(\"City\\t:\", self.__city)\n",
    "        print(\"Salary\\t:\", self.__salary)\n",
    "\n",
    "# main function definition\n",
    "def main():\n",
    "    #Employee Object\n",
    "    emp=Employee()\n",
    "    emp.setData(1,'pankaj','male','raipur',55000)\n",
    "    emp.showData()\n",
    "\t\n",
    "if __name__==\"__main__\":\n",
    "    main()"
   ]
  },
  {
   "cell_type": "code",
   "execution_count": null,
   "id": "ba8d81a0-de10-422a-b060-b6defacc2b37",
   "metadata": {},
   "outputs": [],
   "source": []
  },
  {
   "cell_type": "markdown",
   "id": "553fafd7-da9f-4fca-a7bf-17a6784f5721",
   "metadata": {},
   "source": [
    "Problem 3: Vehicle Rental Create a class representing a vehicle rental system. Implement methods to rent a vehicle, return a vehicle, and display available vehicles."
   ]
  },
  {
   "cell_type": "code",
   "execution_count": 70,
   "id": "6c4869ba-9d23-4fc8-8dcd-b35d3a4061a6",
   "metadata": {},
   "outputs": [],
   "source": [
    "class rental:\n",
    "    def display_vechile(self):\n",
    "        print(\"BMW , Creta , KTM , Honda\")\n",
    "        \n",
    "    def timing(self):\n",
    "        print(\"Return vechile by 24hrs\")"
   ]
  },
  {
   "cell_type": "code",
   "execution_count": 71,
   "id": "57598880-20f9-4683-8eb7-ca9aec3eaf43",
   "metadata": {},
   "outputs": [],
   "source": [
    "class person (rental):\n",
    "    def rent_details (self):\n",
    "        print(\"This gives rent details\")"
   ]
  },
  {
   "cell_type": "code",
   "execution_count": 72,
   "id": "26d9949b-4232-4144-8451-266e34439eeb",
   "metadata": {},
   "outputs": [],
   "source": [
    "harsha = person() "
   ]
  },
  {
   "cell_type": "code",
   "execution_count": 73,
   "id": "b30eaa02-a186-496b-a97a-d91ba659c135",
   "metadata": {},
   "outputs": [
    {
     "name": "stdout",
     "output_type": "stream",
     "text": [
      "BMW , Creta , KTM , Honda\n"
     ]
    }
   ],
   "source": [
    "harsha.display_vechile()"
   ]
  },
  {
   "cell_type": "code",
   "execution_count": 74,
   "id": "b81b2303-ccd0-4b51-857e-a0a14795d532",
   "metadata": {},
   "outputs": [
    {
     "name": "stdout",
     "output_type": "stream",
     "text": [
      "Return vechile by 24hrs\n"
     ]
    }
   ],
   "source": [
    "harsha.timing()"
   ]
  },
  {
   "cell_type": "code",
   "execution_count": null,
   "id": "ff405504-bd53-4c96-a958-5c2e8b82e59f",
   "metadata": {},
   "outputs": [],
   "source": []
  },
  {
   "cell_type": "markdown",
   "id": "27c24ed2-fbf1-477b-bec9-cdc444a447fd",
   "metadata": {},
   "source": [
    "Problem 4: Library Catalog Create classes representing a library and a book. Implement methods to add books to the library, borrow books, and display available books."
   ]
  },
  {
   "cell_type": "code",
   "execution_count": 75,
   "id": "8a29ebb6-549f-4f59-9aca-6ac914ddef7c",
   "metadata": {},
   "outputs": [],
   "source": [
    "class Library:\n",
    "    \n",
    "    def __init__(self, books = None):\n",
    "        if books is None:\n",
    "            self.books = []\n",
    "        else:\n",
    "            self.books = books\n",
    "\n",
    "    def add_book(self, book):\n",
    "        self.books.append(book)\n",
    "        \n",
    "    def remove_book(self, book):\n",
    "        self.books.remove(book)\n",
    "        \n",
    "    def pages_over_n(self, number):\n",
    "        \"\"\"Returns books that have more than specified number of pages\"\"\"\n",
    "        return [book for book in self.books if book.pages > number]\n",
    "    \n",
    "    def get_library(self):\n",
    "        \"\"\"Returns all books in Library\"\"\"\n",
    "        return self.books\n",
    "    \n",
    "    def __repr__(self):\n",
    "        return f\"Library({self.books})\"\n",
    "    \n",
    "    def __str__(self):\n",
    "        return f\"Library has {len(self.books)}\"\n",
    "\n",
    "class Novel:\n",
    "    \n",
    "    def __init__(self, title, pages, publicationDate):\n",
    "        self.title = title\n",
    "        self.pages = pages\n",
    "        self.publicationDate = publicationDate\n",
    "        \n",
    "    def __repr__(self):\n",
    "        return f\"Novel({self.title}, {self.pages}, {self.publicationDate})\"\n",
    "    \n",
    "    def __str__(self):\n",
    "        return f\"Media: {self.title}\"\n",
    "    \n",
    "class ComicBook(Novel):\n",
    "    \n",
    "    def __init__(self, title, pages, publicationDate, artist):\n",
    "        super().__init__(title, pages, publicationDate)\n",
    "        self.artist = artist\n",
    "        \n",
    "    def get_artist(self):\n",
    "        return f\"Artist: {self.artist}\"\n",
    "        \n",
    "    def __repr__(self):\n",
    "        return (f\"ComicBook({self.title}, {self.pages}, \" \n",
    "                f\"{self.publicationDate}, {self.artist})\")\n",
    "    \n",
    "class ReadingList:\n",
    "    \n",
    "    def __init__(self):\n",
    "        self.list = []\n",
    "    \n",
    "    def add_book(self, book):\n",
    "        \"\"\"Add book to reading list\"\"\"\n",
    "        self.list.append(book)\n",
    "        \n",
    "    def remove_book(self, book):\n",
    "        \"\"\"Remove book from reading list\"\"\"\n",
    "        self.list.remove(book)\n",
    "\n",
    "    def total_pages(self):\n",
    "        \"\"\"Returns total pages in reading list\"\"\"\n",
    "        total = 0\n",
    "        for book in self.list:\n",
    "            total += book.pages\n",
    "        return total\n",
    "\n",
    "    def __repr__(self):\n",
    "        return f\"ReadingList({self.list})\"\n",
    "    \n",
    "    def __str__(self):\n",
    "        return f\"Reading list of size {len(self.list)}\"\n",
    "\n",
    "# Initialise Library\n",
    "library = Library()\n",
    "\n",
    "# Create a few books\n",
    "novel1 = Novel(\"Harry Potter\", 500, 1991)\n",
    "novel2 = Novel(\"LotR\", 1000, 1960)\n",
    "novel3 = Novel(\"Game of Thrones\", 2000, 2018)\n",
    "comic1 = ComicBook(\"Batman\", 100, 2020, \"Stan Lee\")\n",
    "\n",
    "# Add books to library.\n",
    "library.add_book(novel1)\n",
    "library.add_book(novel2)\n",
    "library.add_book(novel3)\n",
    "library.add_book(comic1)\n",
    "\n",
    "# Create a new reading list.\n",
    "readingListOne = ReadingList()\n",
    "\n",
    "# Add a couple of books to reading list.\n",
    "readingListOne.add_book(novel1)\n",
    "readingListOne.add_book(comic1)"
   ]
  },
  {
   "cell_type": "code",
   "execution_count": null,
   "id": "c2a788b5-b603-4dd4-a7bb-ea922a91dfbf",
   "metadata": {},
   "outputs": [],
   "source": []
  },
  {
   "cell_type": "markdown",
   "id": "ff4b1688-44b3-4f4f-9bd5-438f9f452de6",
   "metadata": {},
   "source": [
    "Problem 5: Product Inventory Create classes representing a product and an inventory system. Implement methods to add products to the inventory, update product quantity, and display available products."
   ]
  },
  {
   "cell_type": "code",
   "execution_count": 76,
   "id": "fd682355-721f-44e4-b2fc-2d7c0389785b",
   "metadata": {},
   "outputs": [
    {
     "name": "stdout",
     "output_type": "stream",
     "text": [
      "Item Details:\n",
      "Product Name: Laptop, Stock Count: 100, Price: 500.0\n",
      "Product Name: Mobile, Stock Count: 110, Price: 450.0\n",
      "Product Name: Desktop, Stock Count: 120, Price: 500.0\n",
      "Product Name: Tablet, Stock Count: 90, Price: 550.0\n",
      "\n",
      "Update the price of item code - 'I001':\n",
      "Product Name: Laptop, Stock Count: 100, Price: 505.0\n",
      "\n",
      "Update the stock of item code - 'I003':\n",
      "Product Name: Desktop, Stock Count: 115, Price: 500.0\n"
     ]
    }
   ],
   "source": [
    "class Inventory:\n",
    "    def __init__(self):\n",
    "        self.inventory = {}\n",
    "    def add_item(self, item_id, item_name, stock_count, price):\n",
    "        self.inventory[item_id] = {\"item_name\": item_name, \"stock_count\": stock_count, \"price\": price}\n",
    "\n",
    "    def update_item(self, item_id, stock_count, price):\n",
    "        if item_id in self.inventory:\n",
    "            self.inventory[item_id][\"stock_count\"] = stock_count\n",
    "            self.inventory[item_id][\"price\"] = price\n",
    "        else:\n",
    "            print(\"Item not found in inventory.\")\n",
    "\n",
    "    def check_item_details(self, item_id):\n",
    "        if item_id in self.inventory:\n",
    "            item = self.inventory[item_id]\n",
    "            return f\"Product Name: {item['item_name']}, Stock Count: {item['stock_count']}, Price: {item['price']}\"\n",
    "        else:\n",
    "            return \"Item not found in inventory.\"\n",
    "\n",
    "inventory = Inventory()\n",
    "\n",
    "inventory.add_item(\"I001\", \"Laptop\", 100, 500.00)\n",
    "inventory.add_item(\"I002\", \"Mobile\", 110, 450.00)\n",
    "inventory.add_item(\"I003\", \"Desktop\", 120, 500.00)\n",
    "inventory.add_item(\"I004\", \"Tablet\", 90, 550.00)\n",
    "print(\"Item Details:\")\n",
    "print(inventory.check_item_details(\"I001\"))\n",
    "print(inventory.check_item_details(\"I002\"))\n",
    "print(inventory.check_item_details(\"I003\"))\n",
    "print(inventory.check_item_details(\"I004\"))\n",
    "print(\"\\nUpdate the price of item code - 'I001':\")\n",
    "inventory.update_item(\"I001\", 100, 505.00)\n",
    "print(inventory.check_item_details(\"I001\"))\n",
    "print(\"\\nUpdate the stock of item code - 'I003':\")\n",
    "inventory.update_item(\"I003\", 115, 500.00)\n",
    "print(inventory.check_item_details(\"I003\"))"
   ]
  },
  {
   "cell_type": "code",
   "execution_count": null,
   "id": "dbaa1299-4608-47e2-9395-4fe80cd24a4c",
   "metadata": {},
   "outputs": [],
   "source": []
  },
  {
   "cell_type": "markdown",
   "id": "07adf8c7-9809-4052-b5db-3a875082a7a2",
   "metadata": {},
   "source": [
    "Problem 6: Shape Calculation Create a class representing a shape with attributes like length, width, and height. Implement methods to calculate the area and perimeter of the shape."
   ]
  },
  {
   "cell_type": "code",
   "execution_count": 77,
   "id": "5bccac8d-9880-4667-b4f3-f3ef45f6ddba",
   "metadata": {},
   "outputs": [
    {
     "name": "stdout",
     "output_type": "stream",
     "text": [
      "Radius of the circle: 7\n",
      "Circle Area: 153.93804002589985\n",
      "Circle Perimeter: 43.982297150257104\n",
      "\n",
      "Rectangle: Length = 5  Width = 7\n",
      "Rectangle Area: 35\n",
      "Rectangle Perimeter: 24\n",
      "\n",
      "Triangle: Base = 5  Height = 4  side1 = 4  side2 = 3  side3 = 5\n",
      "Triangle Area: 10.0\n",
      "Triangle Perimeter: 12\n"
     ]
    }
   ],
   "source": [
    "import math\n",
    "\n",
    "# Define a base class called Shape to represent a generic shape with methods for calculating area and perimeter\n",
    "class Shape:\n",
    "    # Placeholder method for calculating area (to be implemented in derived classes)\n",
    "    def calculate_area(self):\n",
    "        pass\n",
    "\n",
    "    # Placeholder method for calculating perimeter (to be implemented in derived classes)\n",
    "    def calculate_perimeter(self):\n",
    "        pass\n",
    "\n",
    "# Define a derived class called Circle, which inherits from the Shape class\n",
    "class Circle(Shape):\n",
    "    # Initialize the Circle object with a given radius\n",
    "    def __init__(self, radius):\n",
    "        self.radius = radius\n",
    "\n",
    "    # Calculate and return the area of the circle using the formula: π * r^2\n",
    "    def calculate_area(self):\n",
    "        return math.pi * self.radius**2\n",
    "\n",
    "    # Calculate and return the perimeter of the circle using the formula: 2π * r\n",
    "    def calculate_perimeter(self):\n",
    "        return 2 * math.pi * self.radius\n",
    "\n",
    "# Define a derived class called Rectangle, which inherits from the Shape class\n",
    "class Rectangle(Shape):\n",
    "    # Initialize the Rectangle object with given length and width\n",
    "    def __init__(self, length, width):\n",
    "        self.length = length\n",
    "        self.width = width\n",
    "\n",
    "    # Calculate and return the area of the rectangle using the formula: length * width\n",
    "    def calculate_area(self):\n",
    "        return self.length * self.width\n",
    "\n",
    "    # Calculate and return the perimeter of the rectangle using the formula: 2 * (length + width)\n",
    "    def calculate_perimeter(self):\n",
    "        return 2 * (self.length + self.width)\n",
    "\n",
    "# Define a derived class called Triangle, which inherits from the Shape class\n",
    "class Triangle(Shape):\n",
    "    # Initialize the Triangle object with a base, height, and three side lengths\n",
    "    def __init__(self, base, height, side1, side2, side3):\n",
    "        self.base = base\n",
    "        self.height = height\n",
    "        self.side1 = side1\n",
    "        self.side2 = side2\n",
    "        self.side3 = side3\n",
    "\n",
    "    # Calculate and return the area of the triangle using the formula: 0.5 * base * height\n",
    "    def calculate_area(self):\n",
    "        return 0.5 * self.base * self.height\n",
    "\n",
    "    # Calculate and return the perimeter of the triangle by adding the lengths of its three sides\n",
    "    def calculate_perimeter(self):\n",
    "        return self.side1 + self.side2 + self.side3\n",
    "\n",
    "# Example usage\n",
    "# Create a Circle object with a given radius and calculate its area and perimeter\n",
    "r = 7\n",
    "circle = Circle(r)\n",
    "circle_area = circle.calculate_area()\n",
    "circle_perimeter = circle.calculate_perimeter()\n",
    "\n",
    "# Print the results for the Circle\n",
    "print(\"Radius of the circle:\", r)\n",
    "print(\"Circle Area:\", circle_area)\n",
    "print(\"Circle Perimeter:\", circle_perimeter)\n",
    "\n",
    "# Create a Rectangle object with given length and width and calculate its area and perimeter\n",
    "l = 5\n",
    "w = 7\n",
    "rectangle = Rectangle(l, w)\n",
    "rectangle_area = rectangle.calculate_area()\n",
    "rectangle_perimeter = rectangle.calculate_perimeter()\n",
    "\n",
    "# Print the results for the Rectangle\n",
    "print(\"\\nRectangle: Length =\", l, \" Width =\", w)\n",
    "print(\"Rectangle Area:\", rectangle_area)\n",
    "print(\"Rectangle Perimeter:\", rectangle_perimeter)\n",
    "\n",
    "# Create a Triangle object with a base, height, and three side lengths, and calculate its area and perimeter\n",
    "base = 5\n",
    "height = 4\n",
    "s1 = 4\n",
    "s2 = 3\n",
    "s3 = 5\n",
    "\n",
    "# Print the results for the Triangle\n",
    "print(\"\\nTriangle: Base =\", base, \" Height =\", height, \" side1 =\", s1, \" side2 =\", s2, \" side3 =\", s3)\n",
    "triangle = Triangle(base, height, s1, s2, s3)\n",
    "triangle_area = triangle.calculate_area()\n",
    "triangle_perimeter = triangle.calculate_perimeter()\n",
    "print(\"Triangle Area:\", triangle_area)\n",
    "print(\"Triangle Perimeter:\", triangle_perimeter)"
   ]
  },
  {
   "cell_type": "code",
   "execution_count": null,
   "id": "4514ab83-577e-49c8-b5e7-056cd171df7c",
   "metadata": {},
   "outputs": [],
   "source": []
  },
  {
   "cell_type": "markdown",
   "id": "5fb64023-c4c5-4612-8fe5-9a0e17159bcd",
   "metadata": {},
   "source": [
    "Problem 7: Student Management Create a class representing a student with attributes like student ID, name, and grades. Implement methods to calculate the average grade and display student details."
   ]
  },
  {
   "cell_type": "code",
   "execution_count": 78,
   "id": "4767b0e9-c939-4191-94bb-1d0ffd060af7",
   "metadata": {},
   "outputs": [
    {
     "name": "stdout",
     "output_type": "stream",
     "text": [
      "Original attributes and their values of the Student class:\n",
      "Student id: V10\n",
      "Student Name: Jacqueline Barnett\n"
     ]
    }
   ],
   "source": [
    "class Student:\n",
    "    student_id = 'V10'\n",
    "    student_name = 'Jacqueline Barnett'\n",
    "    def display():\n",
    "        print(f'Student id: {Student.student_id}\\nStudent Name: {Student.student_name}')\n",
    "print(\"Original attributes and their values of the Student class:\")\n",
    "Student.display()"
   ]
  },
  {
   "cell_type": "code",
   "execution_count": null,
   "id": "b4db6411-88b5-4fb6-bd8d-33d32a59e849",
   "metadata": {},
   "outputs": [],
   "source": []
  },
  {
   "cell_type": "markdown",
   "id": "cae08918-b140-48f9-881f-2fbf51ea0105",
   "metadata": {},
   "source": [
    "Problem 8: Email Management Create a class representing an email with attributes like sender, recipient, and subject. Implement methods to send an email and display email details."
   ]
  },
  {
   "cell_type": "code",
   "execution_count": 81,
   "id": "4229bd12-6465-493c-9526-1f21c7254c01",
   "metadata": {},
   "outputs": [
    {
     "name": "stdout",
     "output_type": "stream",
     "text": [
      "From: John Doe\n",
      "To: Jane Doe\n"
     ]
    }
   ],
   "source": [
    "class Message:\n",
    "    def __init__(self, sender, recipient):\n",
    "        self.sender = sender\n",
    "        self.recipient = recipient\n",
    "\n",
    "p1 = Message(\"From: John Doe\", \"To: Jane Doe\")\n",
    " \n",
    "print(p1.sender)\n",
    "print(p1.recipient)"
   ]
  },
  {
   "cell_type": "code",
   "execution_count": null,
   "id": "5904ff79-4719-481f-928d-c2dad070a8f4",
   "metadata": {},
   "outputs": [],
   "source": []
  },
  {
   "cell_type": "markdown",
   "id": "5124b358-b299-4e3e-8eb7-a6b75fbd238f",
   "metadata": {},
   "source": [
    "Problem 9: Social Media Profile Create a class representing a social media profile with attributes like username and posts. Implement methods to add posts, display posts, and search for posts by keyword."
   ]
  },
  {
   "cell_type": "code",
   "execution_count": 86,
   "id": "2296930b-c532-4370-9b81-6dbc6755811e",
   "metadata": {},
   "outputs": [],
   "source": [
    "class profile :\n",
    "    \n",
    "    def username (self):\n",
    "        print(\"username is XYZ\")\n",
    "        \n",
    "    def posts (self):\n",
    "        print(\"nuber of posts\")\n",
    "        \n",
    "    def display_posts (self):\n",
    "        print(\"displayed posts\")\n",
    "        \n",
    "    def addpost (self):\n",
    "        print(\"recently added post\")"
   ]
  },
  {
   "cell_type": "code",
   "execution_count": 84,
   "id": "b12b7564-d489-4014-894a-996dca9b1ded",
   "metadata": {},
   "outputs": [],
   "source": [
    "rex = profile()"
   ]
  },
  {
   "cell_type": "code",
   "execution_count": 85,
   "id": "bbd83c87-3227-438b-bc5b-44e6b66439e6",
   "metadata": {},
   "outputs": [
    {
     "name": "stdout",
     "output_type": "stream",
     "text": [
      "displayed posts\n"
     ]
    }
   ],
   "source": [
    "rex.display_posts()"
   ]
  },
  {
   "cell_type": "code",
   "execution_count": null,
   "id": "dcb1e2ea-ec3d-4eda-aec0-0d77d2405bab",
   "metadata": {},
   "outputs": [],
   "source": []
  },
  {
   "cell_type": "markdown",
   "id": "a48f1ea1-9772-41ec-9a08-c140435f62dc",
   "metadata": {},
   "source": [
    "Problem 10: ToDo List Create a class representing a ToDo list with attributes like tasks and due dates. Implement methods to add tasks, mark tasks as completed, and display pending tasks."
   ]
  },
  {
   "cell_type": "code",
   "execution_count": null,
   "id": "23ab8776-1e13-45cf-8ecf-ca671f1a7cdf",
   "metadata": {},
   "outputs": [],
   "source": [
    "from sortedcontainers import SortedList\n",
    "\n",
    "\n",
    "class TodoList:\n",
    "    def __init__(self):\n",
    "        self.i = 1\n",
    "        self.tasks = defaultdict(SortedList)\n",
    "\n",
    "    def addTask(\n",
    "        self, userId: int, taskDescription: str, dueDate: int, tags: List[str]\n",
    "    ) -> int:\n",
    "        taskId = self.i\n",
    "        self.i += 1\n",
    "        self.tasks[userId].add([dueDate, taskDescription, set(tags), taskId, False])\n",
    "        return taskId\n",
    "\n",
    "    def getAllTasks(self, userId: int) -> List[str]:\n",
    "        return [x[1] for x in self.tasks[userId] if not x[4]]\n",
    "\n",
    "    def getTasksForTag(self, userId: int, tag: str) -> List[str]:\n",
    "        return [x[1] for x in self.tasks[userId] if not x[4] and tag in x[2]]\n",
    "\n",
    "    def completeTask(self, userId: int, taskId: int) -> None:\n",
    "        for task in self.tasks[userId]:\n",
    "            if task[3] == taskId:\n",
    "                task[4] = True\n",
    "                break"
   ]
  }
 ],
 "metadata": {
  "kernelspec": {
   "display_name": "Python 3 (ipykernel)",
   "language": "python",
   "name": "python3"
  },
  "language_info": {
   "codemirror_mode": {
    "name": "ipython",
    "version": 3
   },
   "file_extension": ".py",
   "mimetype": "text/x-python",
   "name": "python",
   "nbconvert_exporter": "python",
   "pygments_lexer": "ipython3",
   "version": "3.10.8"
  }
 },
 "nbformat": 4,
 "nbformat_minor": 5
}
